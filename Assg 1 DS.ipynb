{
 "cells": [
  {
   "cell_type": "markdown",
   "id": "c830d9a7-cf68-4bbe-aca1-92f1c5c227c7",
   "metadata": {},
   "source": [
    "### 1. Write a Python program to reverse a string without using any built-in string reversal functions.\n"
   ]
  },
  {
   "cell_type": "code",
   "execution_count": 90,
   "id": "b6b222d2-01f5-4b4d-9997-ceb81991c636",
   "metadata": {},
   "outputs": [
    {
     "data": {
      "text/plain": [
       "'!dlroW ,olleH'"
      ]
     },
     "execution_count": 90,
     "metadata": {},
     "output_type": "execute_result"
    }
   ],
   "source": [
    "def reverse_string(input_str):\n",
    "    reversed_str = ''\n",
    "    for i in range(len(input_str)-1, -1, -1):\n",
    "        reversed_str += input_str[i]\n",
    "    return reversed_str\n",
    "\n",
    "# Example\n",
    "input_str = 'Hello, World!'\n",
    "reverse_string(input_str)\n",
    "\n"
   ]
  },
  {
   "cell_type": "markdown",
   "id": "6bb46aca-606e-4ae3-b42f-91248ae6a558",
   "metadata": {},
   "source": [
    "### 2. Implement a function to check if a given string is a palindrome.\n"
   ]
  },
  {
   "cell_type": "code",
   "execution_count": 44,
   "id": "4126da9d-fdfe-462b-861f-4b68f4e12098",
   "metadata": {},
   "outputs": [
    {
     "name": "stdout",
     "output_type": "stream",
     "text": [
      "True\n",
      "False\n"
     ]
    }
   ],
   "source": [
    "def is_palindrome(input_str):\n",
    "    input_str = input_str.lower()\n",
    "    reversed_str = reverse_string(input_str)\n",
    "    return input_str == reversed_str\n",
    "\n",
    "# Example\n",
    "input_str = 'level'\n",
    "print(is_palindrome(input_str))  \n",
    "\n",
    "input_str = 'Hello'\n",
    "print(is_palindrome(input_str)) \n",
    "\n"
   ]
  },
  {
   "cell_type": "markdown",
   "id": "1718fb50-a5b8-4912-a163-91546e6d7283",
   "metadata": {},
   "source": [
    "### 3. Write a program to find the largest element in a given list.\n"
   ]
  },
  {
   "cell_type": "code",
   "execution_count": 91,
   "id": "dbfa71a8-88fe-46be-b2ea-4cc691509b3c",
   "metadata": {},
   "outputs": [
    {
     "data": {
      "text/plain": [
       "99"
      ]
     },
     "execution_count": 91,
     "metadata": {},
     "output_type": "execute_result"
    }
   ],
   "source": [
    "def largest_element(lst):\n",
    "    if len(lst) == 0:\n",
    "        return None\n",
    "    larg_element = lst[0]\n",
    "    for element in lst:\n",
    "        if element > larg_element:\n",
    "            larg_element = element\n",
    "    return larg_element\n",
    "\n",
    "# Example\n",
    "lst = [12, 45, 67, 34, 99, 23]\n",
    "largest_element(lst)\n",
    " \n"
   ]
  },
  {
   "cell_type": "markdown",
   "id": "333b53e7-a670-4b59-8e9c-c3f4c50eb917",
   "metadata": {},
   "source": [
    "### 4. Implement a function to count the occurrence of each element in a list.\n"
   ]
  },
  {
   "cell_type": "code",
   "execution_count": 92,
   "id": "0a0d79f7-db53-4af2-97e3-909793f86ccd",
   "metadata": {},
   "outputs": [
    {
     "data": {
      "text/plain": [
       "{1: 2, 2: 3, 3: 3, 4: 1}"
      ]
     },
     "execution_count": 92,
     "metadata": {},
     "output_type": "execute_result"
    }
   ],
   "source": [
    "def count_occur(lst):\n",
    "    occur_count = {}\n",
    "    for element in lst:\n",
    "        if element in occur_count:\n",
    "            occur_count[element] += 1\n",
    "        else:\n",
    "            occur_count[element] = 1\n",
    "    return occur_count\n",
    "\n",
    "# Example \n",
    "lst = [1, 2, 3, 2, 1, 3, 3, 4, 2]\n",
    "count_occur(lst)\n",
    " \n"
   ]
  },
  {
   "cell_type": "markdown",
   "id": "cdf7a341-2621-4169-8ec6-39f81fe82ae4",
   "metadata": {},
   "source": [
    "### 5. Write a Python program to find the second largest number in a list."
   ]
  },
  {
   "cell_type": "code",
   "execution_count": 94,
   "id": "be8ce519-167d-43f0-b523-0b4f2a3c4177",
   "metadata": {},
   "outputs": [
    {
     "data": {
      "text/plain": [
       "67"
      ]
     },
     "execution_count": 94,
     "metadata": {},
     "output_type": "execute_result"
    }
   ],
   "source": [
    "def second_larg(lst):\n",
    "    \n",
    "    if len(lst) < 2:\n",
    "        return None\n",
    "    largest = max(lst[0], lst[1])\n",
    "    second_largest = min(lst[0], lst[1])\n",
    "    for i in range(2, len(lst)):\n",
    "        if lst[i] > largest:\n",
    "            second_largest = largest\n",
    "            largest = lst[i]\n",
    "        elif lst[i] > second_largest:\n",
    "            second_largest = lst[i]\n",
    "    return second_largest\n",
    "\n",
    "# Example \n",
    "lst = [12, 45, 67, 34, 99, 23]\n",
    "second_larg(lst)"
   ]
  },
  {
   "cell_type": "markdown",
   "id": "a33b1c4a-78e3-4dab-af50-3a4493051172",
   "metadata": {},
   "source": [
    "### 6. Implement a function to remove duplicate elements from a list.\n"
   ]
  },
  {
   "cell_type": "code",
   "execution_count": 96,
   "id": "6c01f58c-c050-419c-b9b3-103b2dd5f4f5",
   "metadata": {},
   "outputs": [
    {
     "data": {
      "text/plain": [
       "[1, 2, 3, 4]"
      ]
     },
     "execution_count": 96,
     "metadata": {},
     "output_type": "execute_result"
    }
   ],
   "source": [
    "def remove_dup(lst):\n",
    "    return list(set(lst))\n",
    "\n",
    "# Example \n",
    "lst = [1, 2, 3, 2, 1, 3, 3, 4, 2]\n",
    "remove_dup(lst)"
   ]
  },
  {
   "cell_type": "markdown",
   "id": "4bb871f4-ac35-4326-abf0-4eefb3f99ee0",
   "metadata": {},
   "source": [
    "### 7. Write a program to calculate the factorial of a given number.\n"
   ]
  },
  {
   "cell_type": "code",
   "execution_count": 49,
   "id": "184746f1-9a01-4a83-8220-b5a72a12c289",
   "metadata": {},
   "outputs": [
    {
     "name": "stdout",
     "output_type": "stream",
     "text": [
      "120\n"
     ]
    }
   ],
   "source": [
    "def factorial(n):\n",
    "    if n == 0:\n",
    "        return 1\n",
    "    else:\n",
    "        return n * factorial(n-1)\n",
    "\n",
    "# Example\n",
    "num = 5\n",
    "result = factorial(num)\n",
    "print(result)  "
   ]
  },
  {
   "cell_type": "markdown",
   "id": "feec9006-c4e3-43c4-8796-a84218b9b6ea",
   "metadata": {},
   "source": [
    "### 8. Implement a function to check if a given number is prime.\n"
   ]
  },
  {
   "cell_type": "code",
   "execution_count": 50,
   "id": "b8b4fcd7-3dba-45b9-a70d-541240684cbf",
   "metadata": {},
   "outputs": [
    {
     "name": "stdout",
     "output_type": "stream",
     "text": [
      "True\n",
      "False\n"
     ]
    }
   ],
   "source": [
    "def is_prime(n):\n",
    "    if n < 2:\n",
    "        return False\n",
    "    for i in range(2, int(n**0.5) + 1):\n",
    "        if n % i == 0:\n",
    "            return False\n",
    "    return True\n",
    "\n",
    "# Example \n",
    "num = 17\n",
    "print(is_prime(num)) \n",
    "\n",
    "num = 25\n",
    "print(is_prime(num))  \n"
   ]
  },
  {
   "cell_type": "markdown",
   "id": "2ade0594-78cb-4f0a-9dec-8f0ba824af5c",
   "metadata": {},
   "source": [
    "### 9. Write a Python program to sort a list of integers in ascending order.\n"
   ]
  },
  {
   "cell_type": "code",
   "execution_count": 97,
   "id": "50ef1f46-d71e-4ab3-accc-c80092383bc0",
   "metadata": {},
   "outputs": [
    {
     "data": {
      "text/plain": [
       "[1, 2, 5, 8, 9, 12, 14, 23, 31]"
      ]
     },
     "execution_count": 97,
     "metadata": {},
     "output_type": "execute_result"
    }
   ],
   "source": [
    "def sort_list(lst):\n",
    "    return sorted(lst)\n",
    "\n",
    "# Example \n",
    "lst = [5, 2, 8, 1, 9,12,23,14,31]\n",
    "sort_list(lst)"
   ]
  },
  {
   "cell_type": "markdown",
   "id": "59ff2560-607c-4280-83b4-c4d75a6f68c4",
   "metadata": {},
   "source": [
    "### 10. Implement a function to find the sum of all numbers in a list\n"
   ]
  },
  {
   "cell_type": "code",
   "execution_count": 98,
   "id": "c868dfec-7e02-4fa0-bebd-967cb4447bb4",
   "metadata": {},
   "outputs": [
    {
     "data": {
      "text/plain": [
       "15"
      ]
     },
     "execution_count": 98,
     "metadata": {},
     "output_type": "execute_result"
    }
   ],
   "source": [
    "def find_sum(lst):\n",
    "    return sum(lst)\n",
    "\n",
    "# Example \n",
    "lst = [1, 2, 3, 4, 5]\n",
    "find_sum(lst)"
   ]
  },
  {
   "cell_type": "markdown",
   "id": "68b93142-2dd6-4c1b-a440-8de69ccd1906",
   "metadata": {},
   "source": [
    "### 11. Write a program to find the common elements between two lists.\n"
   ]
  },
  {
   "cell_type": "code",
   "execution_count": 99,
   "id": "ee9cacf2-2e21-4213-a7b7-1d8aa53f5e36",
   "metadata": {},
   "outputs": [
    {
     "data": {
      "text/plain": [
       "[4, 5]"
      ]
     },
     "execution_count": 99,
     "metadata": {},
     "output_type": "execute_result"
    }
   ],
   "source": [
    "def find_common_elements(list1, list2):\n",
    "    return list(set(list1) & set(list2))\n",
    "\n",
    "# Example\n",
    "list1 = [1, 2, 3, 4, 5]\n",
    "list2 = [4, 5, 6, 7, 8]\n",
    "find_common_elements(list1, list2)\n",
    " "
   ]
  },
  {
   "cell_type": "markdown",
   "id": "d4d81fcf-e20a-447b-85f3-6bb963d36a9d",
   "metadata": {},
   "source": [
    "### 12. Implement a function to check if a given string is an anagram of another string.\n"
   ]
  },
  {
   "cell_type": "code",
   "execution_count": 54,
   "id": "5acff78f-1d07-4ed9-bf20-fa80c56b4df6",
   "metadata": {},
   "outputs": [
    {
     "name": "stdout",
     "output_type": "stream",
     "text": [
      "True\n",
      "False\n"
     ]
    }
   ],
   "source": [
    "def is_anagram(str1, str2):\n",
    "    str1 = str1.lower().replace(' ', '')  \n",
    "    str2 = str2.lower().replace(' ', '')\n",
    "    return sorted(str1) == sorted(str2)\n",
    "\n",
    "# Example \n",
    "str1 = 'listen'\n",
    "str2 = 'silent'\n",
    "print(is_anagram(str1, str2))  \n",
    "\n",
    "str1 = 'hello'\n",
    "str2 = 'world'\n",
    "print(is_anagram(str1, str2)) \n"
   ]
  },
  {
   "cell_type": "markdown",
   "id": "88df0e99-3eda-4768-9ec1-3c37422995e1",
   "metadata": {},
   "source": [
    "### 13. Write a Python program to generate all permutations of a given string.\n"
   ]
  },
  {
   "cell_type": "code",
   "execution_count": 55,
   "id": "45837802-f299-4946-befb-612595b8e38f",
   "metadata": {},
   "outputs": [
    {
     "name": "stdout",
     "output_type": "stream",
     "text": [
      "['abc', 'acb', 'bac', 'bca', 'cab', 'cba']\n"
     ]
    }
   ],
   "source": [
    "def permutations(input_str):\n",
    "    if len(input_str) == 1:\n",
    "        return [input_str]\n",
    "    perms = []\n",
    "    for i in range(len(input_str)):\n",
    "        char = input_str[i]\n",
    "        remaining_str = input_str[:i] + input_str[i+1:]\n",
    "        for perm in permutations(remaining_str):\n",
    "            perms.append(char + perm)\n",
    "    return perms\n",
    "\n",
    "# Example \n",
    "input_str = 'abc'\n",
    "perms = permutations(input_str)\n",
    "print(perms) \n"
   ]
  },
  {
   "cell_type": "markdown",
   "id": "3e9c2c4b-c986-4575-95f5-af812118c9db",
   "metadata": {},
   "source": [
    "### 14. Implement a function to calculate the Fibonacci sequence up to a given number of terms.\n"
   ]
  },
  {
   "cell_type": "code",
   "execution_count": 56,
   "id": "b05d499c-c934-4eaf-b6f8-52a9c135e3dc",
   "metadata": {},
   "outputs": [
    {
     "name": "stdout",
     "output_type": "stream",
     "text": [
      "[0, 1, 1, 2, 3, 5, 8, 13, 21, 34]\n"
     ]
    }
   ],
   "source": [
    "def fib_seq(num_terms):\n",
    "    sequence = [0, 1]\n",
    "    for i in range(2, num_terms):\n",
    "        next_term = sequence[i-1] + sequence[i-2]\n",
    "        sequence.append(next_term)\n",
    "    return sequence\n",
    "\n",
    "# Example \n",
    "num_terms = 10\n",
    "fib_sequence = fib_seq(num_terms)\n",
    "print(fib_sequence)  \n"
   ]
  },
  {
   "cell_type": "markdown",
   "id": "4bd28ce5-8e74-433d-9fac-9dc648b55cec",
   "metadata": {},
   "source": [
    "### 15. Write a program to find the median of a list of numbers.\n"
   ]
  },
  {
   "cell_type": "code",
   "execution_count": 57,
   "id": "aaed7739-be6d-418f-89e1-816a86db8bd7",
   "metadata": {},
   "outputs": [
    {
     "name": "stdout",
     "output_type": "stream",
     "text": [
      "3\n"
     ]
    }
   ],
   "source": [
    "def find_median(lst):\n",
    "    sorted_lst = sorted(lst)\n",
    "    n = len(sorted_lst)\n",
    "    if n % 2 == 0:\n",
    "        mid1 = sorted_lst[n//2 - 1]\n",
    "        mid2 = sorted_lst[n//2]\n",
    "        median = (mid1 + mid2) / 2\n",
    "    else:\n",
    "        median = sorted_lst[n//2]\n",
    "    return median\n",
    "\n",
    "# Example \n",
    "lst = [3, 1, 5, 2, 4]\n",
    "median = find_median(lst)\n",
    "print(median)  \n"
   ]
  },
  {
   "cell_type": "markdown",
   "id": "570e45d2-74f4-4ef3-b158-14bef56b4ec1",
   "metadata": {},
   "source": [
    "### 16. Implement a function to check if a given list is sorted in non-decreasing order.\n"
   ]
  },
  {
   "cell_type": "code",
   "execution_count": 58,
   "id": "138173f9-3158-48c0-be75-df487234ffe2",
   "metadata": {},
   "outputs": [
    {
     "name": "stdout",
     "output_type": "stream",
     "text": [
      "True\n",
      "False\n"
     ]
    }
   ],
   "source": [
    "def is_sorted(lst):\n",
    "    return all(lst[i] <= lst[i+1] for i in range(len(lst)-1))\n",
    "\n",
    "# Example \n",
    "lst = [1, 2, 3, 4, 5]\n",
    "print(is_sorted(lst)) \n",
    "\n",
    "lst = [5, 2, 7, 1, 9]\n",
    "print(is_sorted(lst))  \n"
   ]
  },
  {
   "cell_type": "markdown",
   "id": "78424ca5-a00b-4ae2-98dc-6fbb90211662",
   "metadata": {},
   "source": [
    "### 17. Write a Python program to find the intersection of two lists.\n"
   ]
  },
  {
   "cell_type": "code",
   "execution_count": 100,
   "id": "74e4759a-a1f0-4503-b3d9-279f2e212321",
   "metadata": {},
   "outputs": [
    {
     "name": "stdout",
     "output_type": "stream",
     "text": [
      "[4, 5]\n"
     ]
    }
   ],
   "source": [
    "def find_inter(list1, list2):\n",
    "    return list(set(list1) & set(list2))\n",
    "\n",
    "# Example\n",
    "list1 = [1, 2, 3, 4, 5]\n",
    "list2 = [4, 5, 6, 7, 8]\n",
    "inter = find_inter(list1, list2)\n",
    "print(inter)  \n"
   ]
  },
  {
   "cell_type": "markdown",
   "id": "bba695bd-1694-47cd-965a-98842844467e",
   "metadata": {},
   "source": [
    "### 18. Implement a function to find the maximum subarray sum in a given list."
   ]
  },
  {
   "cell_type": "code",
   "execution_count": 60,
   "id": "e589d7a7-fb21-4732-b425-6b49688ca6fa",
   "metadata": {},
   "outputs": [
    {
     "name": "stdout",
     "output_type": "stream",
     "text": [
      "6\n"
     ]
    }
   ],
   "source": [
    "def max_subarray_sum(lst):\n",
    "    max_sum = float('-inf')\n",
    "    current_sum = 0\n",
    "    for num in lst:\n",
    "        current_sum += num\n",
    "        if current_sum > max_sum:\n",
    "            max_sum = current_sum\n",
    "        if current_sum < 0:\n",
    "            current_sum = 0\n",
    "    return max_sum\n",
    "\n",
    "# Example \n",
    "lst = [-2, 1, -3, 4, -1, 2, 1, -5, 4]\n",
    "max_sum = max_subarray_sum(lst)\n",
    "print(max_sum) "
   ]
  },
  {
   "cell_type": "markdown",
   "id": "39b52b7c-2dcd-4e2d-a5c9-f914b008b21e",
   "metadata": {},
   "source": [
    "### 19. Write a program to remove all vowels from a given string.\n"
   ]
  },
  {
   "cell_type": "code",
   "execution_count": 61,
   "id": "be4d5f26-faea-4b14-864e-b2ec1f8ffe0d",
   "metadata": {},
   "outputs": [
    {
     "name": "stdout",
     "output_type": "stream",
     "text": [
      "Hll, Wrld!\n"
     ]
    }
   ],
   "source": [
    "def remove_vowels(input_str):\n",
    "    vowels = 'aeiouAEIOU'\n",
    "    return ''.join(char for char in input_str if char not in vowels)\n",
    "\n",
    "# Example \n",
    "input_str = 'Hello, World!'\n",
    "result = remove_vowels(input_str)\n",
    "print(result) \n"
   ]
  },
  {
   "cell_type": "markdown",
   "id": "ddc26475-8102-40cc-a10f-98647afd59ab",
   "metadata": {},
   "source": [
    "### 20. Implement a function to reverse the order of words in a given sentence.\n"
   ]
  },
  {
   "cell_type": "code",
   "execution_count": 62,
   "id": "e7bebd8d-f3f4-4bac-8311-265d3773c9f3",
   "metadata": {},
   "outputs": [
    {
     "name": "stdout",
     "output_type": "stream",
     "text": [
      "World! Hello,\n"
     ]
    }
   ],
   "source": [
    "def reverse_words(sentence):\n",
    "    words = sentence.split()\n",
    "    reversed_sentence = ' '.join(reversed(words))\n",
    "    return reversed_sentence\n",
    "\n",
    "# Example\n",
    "sentence = 'Hello, World!'\n",
    "reversed_sentence = reverse_words(sentence)\n",
    "print(reversed_sentence) \n"
   ]
  },
  {
   "cell_type": "markdown",
   "id": "ed125915-6420-4f4d-85b7-3466b65d5e9a",
   "metadata": {},
   "source": [
    "### 21. Write a Python program to check if two strings are anagrams of each other.\n"
   ]
  },
  {
   "cell_type": "code",
   "execution_count": 63,
   "id": "76835ea0-fddd-4b7c-b36d-4066eec74e5e",
   "metadata": {},
   "outputs": [
    {
     "name": "stdout",
     "output_type": "stream",
     "text": [
      "True\n",
      "False\n"
     ]
    }
   ],
   "source": [
    "def are_anagrams(str1, str2):\n",
    "    str1 = str1.lower().replace(' ', '')  \n",
    "    str2 = str2.lower().replace(' ', '')\n",
    "    return sorted(str1) == sorted(str2)\n",
    "\n",
    "# Example \n",
    "str1 = 'listen'\n",
    "str2 = 'silent'\n",
    "print(are_anagrams(str1, str2))  \n",
    "\n",
    "str1 = 'hello'\n",
    "str2 = 'world'\n",
    "print(are_anagrams(str1, str2))  \n"
   ]
  },
  {
   "cell_type": "markdown",
   "id": "5561aec0-12a4-4ce1-811b-fba763acfbd9",
   "metadata": {},
   "source": [
    "### 22. Implement a function to find the first non-repeating character in a string.\n"
   ]
  },
  {
   "cell_type": "code",
   "execution_count": 64,
   "id": "f6eef585-6e29-4e61-87a4-9e7200709220",
   "metadata": {},
   "outputs": [
    {
     "name": "stdout",
     "output_type": "stream",
     "text": [
      "c\n"
     ]
    }
   ],
   "source": [
    "def find_char(input_str):\n",
    "    char_count = {}\n",
    "    for char in input_str:\n",
    "        if char in char_count:\n",
    "            char_count[char] += 1\n",
    "        else:\n",
    "            char_count[char] = 1\n",
    "    for char in input_str:\n",
    "        if char_count[char] == 1:\n",
    "            return char\n",
    "    return None\n",
    "\n",
    "# Example\n",
    "input_str = 'abacabad'\n",
    "non_repeating_char = find_char(input_str)\n",
    "print(non_repeating_char) \n"
   ]
  },
  {
   "cell_type": "markdown",
   "id": "05a8b18a-4b23-405b-9342-09060d0f551d",
   "metadata": {},
   "source": [
    "### 23. Write a program to find the prime factors of a given number.\n"
   ]
  },
  {
   "cell_type": "code",
   "execution_count": 65,
   "id": "deb87bcd-ab03-42d1-aac6-19db19f33541",
   "metadata": {},
   "outputs": [
    {
     "name": "stdout",
     "output_type": "stream",
     "text": [
      "[2, 2, 2, 2, 3]\n"
     ]
    }
   ],
   "source": [
    "def prime_factors(num):\n",
    "    factors = []\n",
    "    divisor = 2\n",
    "    while divisor <= num:\n",
    "        if num % divisor == 0:\n",
    "            factors.append(divisor)\n",
    "            num = num / divisor\n",
    "        else:\n",
    "            divisor += 1\n",
    "    return factors\n",
    "\n",
    "# Example \n",
    "num = 48\n",
    "factors = prime_factors(num)\n",
    "print(factors)  \n"
   ]
  },
  {
   "cell_type": "markdown",
   "id": "75717df8-bc65-478d-8f38-25c1bb2b5efc",
   "metadata": {},
   "source": [
    "### 24. Implement a function to check if a given number is a power of two.\n"
   ]
  },
  {
   "cell_type": "code",
   "execution_count": 66,
   "id": "fbb3a629-6daf-45f8-9608-fd18252312ae",
   "metadata": {},
   "outputs": [
    {
     "name": "stdout",
     "output_type": "stream",
     "text": [
      "True\n",
      "False\n"
     ]
    }
   ],
   "source": [
    "def power_two(num):\n",
    "    return num > 0 and (num & (num - 1)) == 0\n",
    "\n",
    "# Example\n",
    "num = 16\n",
    "print(power_two(num))  \n",
    "\n",
    "num = 15\n",
    "print(power_two(num))  "
   ]
  },
  {
   "cell_type": "markdown",
   "id": "15b4c53b-308d-4c7c-a5e4-03af4363cedd",
   "metadata": {},
   "source": [
    "### 25. Write a Python program to merge two sorted lists into a single sorted list.\n"
   ]
  },
  {
   "cell_type": "code",
   "execution_count": 67,
   "id": "2d4c4bf0-1b54-455f-a620-0f0c1ac86959",
   "metadata": {},
   "outputs": [
    {
     "name": "stdout",
     "output_type": "stream",
     "text": [
      "[1, 2, 3, 4, 5, 6]\n"
     ]
    }
   ],
   "source": [
    "def merge_lists(list1, list2):\n",
    "    merged_list = []\n",
    "    i, j = 0, 0\n",
    "    while i < len(list1) and j < len(list2):\n",
    "        if list1[i] < list2[j]:\n",
    "            merged_list.append(list1[i])\n",
    "            i += 1\n",
    "        else:\n",
    "            merged_list.append(list2[j])\n",
    "            j += 1\n",
    "    while i < len(list1):\n",
    "        merged_list.append(list1[i])\n",
    "        i += 1\n",
    "    while j < len(list2):\n",
    "        merged_list.append(list2[j])\n",
    "        j += 1\n",
    "    return merged_list\n",
    "\n",
    "# Example \n",
    "list1 = [1, 3, 5]\n",
    "list2 = [2, 4, 6]\n",
    "merged_list = merge_lists(list1, list2)\n",
    "print(merged_list)  \n"
   ]
  },
  {
   "cell_type": "markdown",
   "id": "e112dd77-398d-49a6-855a-7d57be05b981",
   "metadata": {},
   "source": [
    "### 26. Implement a function to find the mode of a list of numbers.\n"
   ]
  },
  {
   "cell_type": "code",
   "execution_count": 68,
   "id": "478604d4-649c-417f-9550-ba6a8f667553",
   "metadata": {},
   "outputs": [
    {
     "data": {
      "text/plain": [
       "1"
      ]
     },
     "execution_count": 68,
     "metadata": {},
     "output_type": "execute_result"
    }
   ],
   "source": [
    "from collections import Counter\n",
    "\n",
    "def mode_find(num):\n",
    "    counter = Counter(num)\n",
    "    mode = counter.most_common(1)[0][0]\n",
    "    return mode\n",
    "\n",
    "#Example\n",
    "a = [1,2,1,3,4,4,4,2,1]\n",
    "mode_find(a)"
   ]
  },
  {
   "cell_type": "markdown",
   "id": "db5e71f3-2310-41e7-9e74-cee870861404",
   "metadata": {},
   "source": [
    "### 27. Write a program to find the greatest common divisor (GCD) of two numbers.\n"
   ]
  },
  {
   "cell_type": "code",
   "execution_count": 69,
   "id": "baecc7c5-a07a-434f-b431-1c9da42f60ce",
   "metadata": {},
   "outputs": [
    {
     "data": {
      "text/plain": [
       "2"
      ]
     },
     "execution_count": 69,
     "metadata": {},
     "output_type": "execute_result"
    }
   ],
   "source": [
    "def gcd(a, b):\n",
    "    while b:\n",
    "        a, b = b, a % b\n",
    "    return a\n",
    "\n",
    "#Example\n",
    "gcd(24,86)"
   ]
  },
  {
   "cell_type": "markdown",
   "id": "bacf420a-304f-40e5-bd13-654ea1a47520",
   "metadata": {},
   "source": [
    "### 28. Implement a function to calculate the square root of a given number.\n"
   ]
  },
  {
   "cell_type": "code",
   "execution_count": 70,
   "id": "1be995b6-32a7-4238-aff4-e9f9ece4d4e1",
   "metadata": {},
   "outputs": [
    {
     "data": {
      "text/plain": [
       "1.7320508100147274"
      ]
     },
     "execution_count": 70,
     "metadata": {},
     "output_type": "execute_result"
    }
   ],
   "source": [
    "def sqrt(num):\n",
    "    if num < 0:\n",
    "        return None\n",
    "\n",
    "    if num == 0 or num == 1:\n",
    "        return num\n",
    "\n",
    "    guess = num / 2\n",
    "    \n",
    "    while abs(guess * guess - num) > 0.0001:\n",
    "        guess = (guess + num / guess) / 2\n",
    "\n",
    "    return guess\n",
    "\n",
    "#Example\n",
    "sqrt(3)"
   ]
  },
  {
   "cell_type": "markdown",
   "id": "677d1919-cf97-46ae-8c5e-6d4ede170144",
   "metadata": {},
   "source": [
    "### 29. Write a Python program to check if a given string is a valid palindrome ignoring non-alphanumeric characters.\n"
   ]
  },
  {
   "cell_type": "code",
   "execution_count": 71,
   "id": "dd68652d-51e6-4da6-bfa7-437e22bf1096",
   "metadata": {},
   "outputs": [
    {
     "data": {
      "text/plain": [
       "False"
      ]
     },
     "execution_count": 71,
     "metadata": {},
     "output_type": "execute_result"
    }
   ],
   "source": [
    "import re\n",
    "\n",
    "def palindrome_check(s):\n",
    "    s = re.sub(r'[^a-zA-Z0-9]', '', s.lower())\n",
    "    return s == s[::-1]\n",
    "\n",
    "#Example\n",
    "palindrome_check('banana')"
   ]
  },
  {
   "cell_type": "markdown",
   "id": "e6298dd7-d1b5-4e6e-9638-8a8e7e37a756",
   "metadata": {},
   "source": [
    "### 30. Implement a function to find the minimum element in a rotated sorted list.\n"
   ]
  },
  {
   "cell_type": "code",
   "execution_count": 72,
   "id": "5a271f88-a134-403c-b94a-54fc4078c28a",
   "metadata": {},
   "outputs": [
    {
     "data": {
      "text/plain": [
       "3"
      ]
     },
     "execution_count": 72,
     "metadata": {},
     "output_type": "execute_result"
    }
   ],
   "source": [
    "def find_minimum(nums):\n",
    "    left, right = 0, len(nums) - 1\n",
    "\n",
    "    while left < right:\n",
    "        mid = left + (right - left) // 2\n",
    "\n",
    "        if nums[mid] > nums[right]:\n",
    "            left = mid + 1\n",
    "        else:\n",
    "            right = mid\n",
    "\n",
    "    return nums[left]\n",
    "\n",
    "#Example\n",
    "find_minimum([2,5,7,3,1,8,8])"
   ]
  },
  {
   "cell_type": "markdown",
   "id": "666887ae-eae6-423b-9399-d18886d52700",
   "metadata": {},
   "source": [
    "### 31. Write a program to find the sum of all even numbers in a list.\n"
   ]
  },
  {
   "cell_type": "code",
   "execution_count": 73,
   "id": "83430e81-d8b5-49e5-b0b3-273bff82a516",
   "metadata": {},
   "outputs": [
    {
     "data": {
      "text/plain": [
       "20"
      ]
     },
     "execution_count": 73,
     "metadata": {},
     "output_type": "execute_result"
    }
   ],
   "source": [
    "def even_sum(numbers):\n",
    "    return sum(num for num in numbers if num % 2 == 0)\n",
    "\n",
    "#Example\n",
    "even_sum([1,2,3,4,5,6,7,8,9])"
   ]
  },
  {
   "cell_type": "markdown",
   "id": "84ea3849-2b64-43fe-a792-58a33c3c2f61",
   "metadata": {},
   "source": [
    "### 32. Implement a function to calculate the power of a number using recursion.\n"
   ]
  },
  {
   "cell_type": "code",
   "execution_count": 74,
   "id": "d445ad0d-a977-46e2-b080-478e4e2fa6ae",
   "metadata": {},
   "outputs": [
    {
     "data": {
      "text/plain": [
       "9"
      ]
     },
     "execution_count": 74,
     "metadata": {},
     "output_type": "execute_result"
    }
   ],
   "source": [
    "def power(base, exponent):\n",
    "    if exponent == 0:\n",
    "        return 1\n",
    "    elif exponent < 0:\n",
    "        return 1 / power(base, -exponent)\n",
    "    else:\n",
    "        return base * power(base, exponent - 1)\n",
    "\n",
    "#Example\n",
    "power(3, 2)"
   ]
  },
  {
   "cell_type": "markdown",
   "id": "5d1f3c17-53ab-4d03-a9c7-493dd2db184a",
   "metadata": {},
   "source": [
    "### 33. Write a Python program to remove duplicates from a list while preserving the order.\n"
   ]
  },
  {
   "cell_type": "code",
   "execution_count": 75,
   "id": "32c6fd7b-329b-4850-ab36-067b8728439f",
   "metadata": {},
   "outputs": [
    {
     "data": {
      "text/plain": [
       "[2, 5, 7, 3, 1, 8]"
      ]
     },
     "execution_count": 75,
     "metadata": {},
     "output_type": "execute_result"
    }
   ],
   "source": [
    "def remove_duplicate(numbers):\n",
    "    seen = set()\n",
    "    return [num for num in numbers if not (num in seen or seen.add(num))]\n",
    "\n",
    "#Example\n",
    "remove_duplicate([2,5,7,3,1,8,8])"
   ]
  },
  {
   "cell_type": "markdown",
   "id": "b7cd17a4-9197-4e6d-bbee-fde0bb3f73d3",
   "metadata": {},
   "source": [
    "### 34. Implement a function to find the longest common prefix among a list of strings.\n"
   ]
  },
  {
   "cell_type": "code",
   "execution_count": 76,
   "id": "1a977ea2-f87e-4cf2-870d-2ee006e10a50",
   "metadata": {},
   "outputs": [
    {
     "data": {
      "text/plain": [
       "'fl'"
      ]
     },
     "execution_count": 76,
     "metadata": {},
     "output_type": "execute_result"
    }
   ],
   "source": [
    "def com_prefix(strings):\n",
    "    if not strings:\n",
    "        return \"\"\n",
    "\n",
    "    prefix = strings[0]\n",
    "    for string in strings[1:]:\n",
    "        while string[:len(prefix)] != prefix:\n",
    "            prefix = prefix[:-1]\n",
    "            if not prefix:\n",
    "                return \"\"\n",
    "\n",
    "    return prefix\n",
    "\n",
    "#Example\n",
    "com_prefix([\"flower\", \"flow\", \"flight\"])"
   ]
  },
  {
   "cell_type": "markdown",
   "id": "fd5caefc-c714-4680-8d75-22185c8908d9",
   "metadata": {},
   "source": [
    "### 35. Write a program to check if a given number is a perfect square.\n"
   ]
  },
  {
   "cell_type": "code",
   "execution_count": 77,
   "id": "bfd00b93-7789-42f3-b12c-ea23ed89d701",
   "metadata": {},
   "outputs": [
    {
     "data": {
      "text/plain": [
       "True"
      ]
     },
     "execution_count": 77,
     "metadata": {},
     "output_type": "execute_result"
    }
   ],
   "source": [
    "def is_square(num):\n",
    "    if num < 0:\n",
    "        return False\n",
    "\n",
    "    root = int(num ** 0.5)\n",
    "    return root * root == num\n",
    "\n",
    "#Example\n",
    "is_square(24)\n",
    "is_square(16)"
   ]
  },
  {
   "cell_type": "markdown",
   "id": "134cc96b-d66d-49ef-8ab7-33741075a4e6",
   "metadata": {},
   "source": [
    "### 36. Implement a function to calculate the product of all elements in a list.\n"
   ]
  },
  {
   "cell_type": "code",
   "execution_count": 78,
   "id": "d67b0915-f90f-4516-888b-e984e773fe71",
   "metadata": {},
   "outputs": [
    {
     "data": {
      "text/plain": [
       "240"
      ]
     },
     "execution_count": 78,
     "metadata": {},
     "output_type": "execute_result"
    }
   ],
   "source": [
    "def elemnts_product(numbers):\n",
    "    if not numbers:\n",
    "        return 1\n",
    "\n",
    "    result = 1\n",
    "    for num in numbers:\n",
    "        result *= num\n",
    "\n",
    "    return result\n",
    "\n",
    "#Example\n",
    "elemnts_product([5,4,6,2])"
   ]
  },
  {
   "cell_type": "markdown",
   "id": "84d823e1-6207-4bb7-a7e4-4ee76e78b107",
   "metadata": {},
   "source": [
    "### 37. Write a Python program to reverse the order of words in a sentence while preserving the word order.\n"
   ]
  },
  {
   "cell_type": "code",
   "execution_count": 89,
   "id": "5a3cde5a-0e64-40f6-99ef-ef82c62ea06b",
   "metadata": {},
   "outputs": [
    {
     "data": {
      "text/plain": [
       "'1.0 Course Masters DataScience is This'"
      ]
     },
     "execution_count": 89,
     "metadata": {},
     "output_type": "execute_result"
    }
   ],
   "source": [
    "def sentence_reverse(sentence):\n",
    "    words = sentence.split()\n",
    "    return ' '.join(words[::-1])\n",
    "\n",
    "#Example\n",
    "sentence_reverse('This is DataScience Masters Course 1.0')"
   ]
  },
  {
   "cell_type": "markdown",
   "id": "73851acf-5c76-4633-a709-0217cad3c45a",
   "metadata": {},
   "source": [
    "### 38. Implement a function to find the missing number in a given list of consecutive numbers.\n"
   ]
  },
  {
   "cell_type": "code",
   "execution_count": 80,
   "id": "023d55c5-553d-43af-9374-8ef7094543e6",
   "metadata": {},
   "outputs": [
    {
     "data": {
      "text/plain": [
       "5"
      ]
     },
     "execution_count": 80,
     "metadata": {},
     "output_type": "execute_result"
    }
   ],
   "source": [
    "def find_missing_num(numbers):\n",
    "    n = len(numbers) + 1\n",
    "    total_sum = (n * (n + 1)) // 2\n",
    "    actual_sum = sum(numbers)\n",
    "    return total_sum - actual_sum\n",
    "\n",
    "#Example\n",
    "find_missing_num([1,2,3,4,6])"
   ]
  },
  {
   "cell_type": "markdown",
   "id": "9d06ac8e-fa38-4967-b33b-8770d5bda478",
   "metadata": {},
   "source": [
    "### 39. Write a program to find the sum of digits of a given number.\n"
   ]
  },
  {
   "cell_type": "code",
   "execution_count": 81,
   "id": "5321805b-ad18-4fa6-8252-5e387b024e8f",
   "metadata": {},
   "outputs": [
    {
     "data": {
      "text/plain": [
       "6"
      ]
     },
     "execution_count": 81,
     "metadata": {},
     "output_type": "execute_result"
    }
   ],
   "source": [
    "def sum_of_digits(num):\n",
    "    return sum(int(digit) for digit in str(num) if digit.isdigit())\n",
    "\n",
    "#Example\n",
    "sum_of_digits(123)"
   ]
  },
  {
   "cell_type": "markdown",
   "id": "4fefc8a3-1a9d-441d-a0bc-75bce08e73f4",
   "metadata": {},
   "source": [
    "### 40. Implement a function to check if a given string is a valid palindrome considering case sensitivity.\n"
   ]
  },
  {
   "cell_type": "code",
   "execution_count": 82,
   "id": "59607e9e-bc50-4a23-9da6-fb317066ab1e",
   "metadata": {},
   "outputs": [
    {
     "data": {
      "text/plain": [
       "False"
      ]
     },
     "execution_count": 82,
     "metadata": {},
     "output_type": "execute_result"
    }
   ],
   "source": [
    "def is_valid_palindrome(s):\n",
    "    left, right = 0, len(s) - 1\n",
    "    while left < right:\n",
    "        if s[left] != s[right]:\n",
    "            return False\n",
    "        left += 1\n",
    "        right -= 1\n",
    "    return True\n",
    "\n",
    "#Example\n",
    "is_valid_palindrome('banana')\n"
   ]
  },
  {
   "cell_type": "markdown",
   "id": "8b08f557-2ac4-4f83-99f2-0e6ac98a32ce",
   "metadata": {},
   "source": [
    "### 41. Write a Python program to find the smallest missing positive integer in a list.\n"
   ]
  },
  {
   "cell_type": "code",
   "execution_count": 83,
   "id": "d09ef0e7-a67e-4e34-bc5e-6fff5b04e5d6",
   "metadata": {},
   "outputs": [
    {
     "data": {
      "text/plain": [
       "3"
      ]
     },
     "execution_count": 83,
     "metadata": {},
     "output_type": "execute_result"
    }
   ],
   "source": [
    "def small_num(nums):\n",
    "    n = len(nums)\n",
    "    for i in range(n):\n",
    "        while 1 <= nums[i] <= n and nums[i] != nums[nums[i] - 1]:\n",
    "            nums[nums[i] - 1], nums[i] = nums[i], nums[nums[i] - 1]\n",
    "    for i in range(n):\n",
    "        if nums[i] != i + 1:\n",
    "            return i + 1\n",
    "    return n + 1\n",
    "\n",
    "#Example\n",
    "small_num([1,2,4,6,7,9])"
   ]
  },
  {
   "cell_type": "markdown",
   "id": "2fa1df3a-6787-4aa3-8a84-bc873d583059",
   "metadata": {},
   "source": [
    "### 42. Implement a function to find the longest palindrome substring in a given string.\n"
   ]
  },
  {
   "cell_type": "code",
   "execution_count": 84,
   "id": "36c27eac-3e49-495b-90d0-9f5e28fbb1dd",
   "metadata": {},
   "outputs": [
    {
     "data": {
      "text/plain": [
       "'anana'"
      ]
     },
     "execution_count": 84,
     "metadata": {},
     "output_type": "execute_result"
    }
   ],
   "source": [
    "def longest_palin_substr(s):\n",
    "    if not s:\n",
    "        return \"\"\n",
    "\n",
    "    n = len(s)\n",
    "    longest = \"\"\n",
    "\n",
    "    def expand_around_center(left, right):\n",
    "        while left >= 0 and right < n and s[left] == s[right]:\n",
    "            left -= 1\n",
    "            right += 1\n",
    "        return s[left + 1:right]\n",
    "\n",
    "    for i in range(n):\n",
    "       \n",
    "        palindrome_odd = expand_around_center(i, i)\n",
    "        if len(palindrome_odd) > len(longest):\n",
    "            longest = palindrome_odd\n",
    "\n",
    "        palindrome_even = expand_around_center(i, i + 1)\n",
    "        if len(palindrome_even) > len(longest):\n",
    "            longest = palindrome_even\n",
    "\n",
    "    return longest\n",
    "\n",
    "#Example\n",
    "longest_palin_substr('banana')"
   ]
  },
  {
   "cell_type": "markdown",
   "id": "9e26251d-688c-4077-8f54-ab542bf8397a",
   "metadata": {},
   "source": [
    "### 43. Write a program to find the number of occurrences of a given element in a list.\n"
   ]
  },
  {
   "cell_type": "code",
   "execution_count": 85,
   "id": "ae096bd6-7cbf-4047-9c17-b60f9522f4ab",
   "metadata": {},
   "outputs": [
    {
     "data": {
      "text/plain": [
       "4"
      ]
     },
     "execution_count": 85,
     "metadata": {},
     "output_type": "execute_result"
    }
   ],
   "source": [
    "def count_occurrences(nums, target):\n",
    "    return nums.count(target)\n",
    "\n",
    "#Example\n",
    "count_occurrences([2,3,1,4,2,3,6,3,5,6,3], 3)"
   ]
  },
  {
   "cell_type": "markdown",
   "id": "323152fa-08fe-4dd4-8f10-b6a42704b084",
   "metadata": {},
   "source": [
    "### 44. Implement a function to check if a given number is a perfect number.\n"
   ]
  },
  {
   "cell_type": "code",
   "execution_count": 86,
   "id": "f37eba85-e7f6-45d1-9546-3ce67588b712",
   "metadata": {},
   "outputs": [
    {
     "data": {
      "text/plain": [
       "False"
      ]
     },
     "execution_count": 86,
     "metadata": {},
     "output_type": "execute_result"
    }
   ],
   "source": [
    "def is_perfect_num(num):\n",
    "    if num <= 0:\n",
    "        return False\n",
    "    divisors_sum = 0\n",
    "    for i in range(1, int(num**0.5) + 1):\n",
    "        if num % i == 0:\n",
    "            divisors_sum += i\n",
    "            if i != num // i:\n",
    "                divisors_sum += num // i\n",
    "    return divisors_sum - num == num\n",
    "\n",
    "#Example\n",
    "is_perfect_num(24)\n",
    "is_perfect_num(7)"
   ]
  },
  {
   "cell_type": "markdown",
   "id": "0324826d-d655-404e-aaf7-f105b3a2c27f",
   "metadata": {},
   "source": [
    "### 45. Write a Python program to remove all duplicates from a string.\n"
   ]
  },
  {
   "cell_type": "code",
   "execution_count": 87,
   "id": "bde0e974-067e-4573-b77f-e78c1da5b1c0",
   "metadata": {},
   "outputs": [
    {
     "data": {
      "text/plain": [
       "'nba'"
      ]
     },
     "execution_count": 87,
     "metadata": {},
     "output_type": "execute_result"
    }
   ],
   "source": [
    "def remove_duplicate(s):\n",
    "    return ''.join(set(s))\n",
    "\n",
    "#Example\n",
    "remove_duplicate('banana')"
   ]
  },
  {
   "cell_type": "markdown",
   "id": "ce42e2f8-343f-4410-a8a1-d28ad015e3ab",
   "metadata": {},
   "source": [
    "### 46. Implement a function to find the first missing positive\n"
   ]
  },
  {
   "cell_type": "code",
   "execution_count": 88,
   "id": "62ea9fe1-5d35-4056-ac7a-b0c943889e04",
   "metadata": {},
   "outputs": [
    {
     "data": {
      "text/plain": [
       "2"
      ]
     },
     "execution_count": 88,
     "metadata": {},
     "output_type": "execute_result"
    }
   ],
   "source": [
    "def first_missing(nums):\n",
    "    n = len(nums)\n",
    "    for i in range(n):\n",
    "        while 1 <= nums[i] <= n and nums[i] != nums[nums[i] - 1]:\n",
    "            nums[nums[i] - 1], nums[i] = nums[i], nums[nums[i] - 1]\n",
    "    for i in range(n):\n",
    "        if nums[i] != i + 1:\n",
    "            return i + 1\n",
    "    return n + 1\n",
    "\n",
    "#Example\n",
    "first_missing([3, 4, -1, 1])"
   ]
  }
 ],
 "metadata": {
  "kernelspec": {
   "display_name": "Python 3 (ipykernel)",
   "language": "python",
   "name": "python3"
  },
  "language_info": {
   "codemirror_mode": {
    "name": "ipython",
    "version": 3
   },
   "file_extension": ".py",
   "mimetype": "text/x-python",
   "name": "python",
   "nbconvert_exporter": "python",
   "pygments_lexer": "ipython3",
   "version": "3.10.8"
  }
 },
 "nbformat": 4,
 "nbformat_minor": 5
}
