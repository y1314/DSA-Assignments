{
 "cells": [
  {
   "cell_type": "markdown",
   "id": "8fad07f8-7c72-426f-b6e1-7b2dd09ede8a",
   "metadata": {},
   "source": [
    "\n",
    "**Question 1**\n",
    "Given an integer array nums of 2n integers, group these integers into n pairs (a1, b1), (a2, b2),..., (an, bn) such that the sum of min(ai, bi) for all i is maximized. Return the maximized sum.\n",
    "\n",
    "**Example 1:**\n",
    "Input: nums = [1,4,3,2]\n",
    "Output: 4\n",
    "\n",
    "**Explanation:** All possible pairings (ignoring the ordering of elements) are:\n",
    "\n",
    "1. (1, 4), (2, 3) -> min(1, 4) + min(2, 3) = 1 + 2 = 3\n",
    "2. (1, 3), (2, 4) -> min(1, 3) + min(2, 4) = 1 + 2 = 3\n",
    "3. (1, 2), (3, 4) -> min(1, 2) + min(3, 4) = 1 + 3 = 4\n",
    "So the maximum possible sum is 4\n"
   ]
  },
  {
   "cell_type": "code",
   "execution_count": 3,
   "id": "2479e361-1839-4724-b3c2-a1df004cfcb7",
   "metadata": {},
   "outputs": [],
   "source": [
    "def PairSum(nums):\n",
    "    nums.sort()\n",
    "    res = 0\n",
    "    for i in range(0, len(nums), 2):\n",
    "        res += nums[i]\n",
    "    return res\n",
    "        "
   ]
  },
  {
   "cell_type": "code",
   "execution_count": 4,
   "id": "75c0b673-d7ca-4704-b583-4277d8e9e21f",
   "metadata": {},
   "outputs": [
    {
     "data": {
      "text/plain": [
       "4"
      ]
     },
     "execution_count": 4,
     "metadata": {},
     "output_type": "execute_result"
    }
   ],
   "source": [
    "nums = [1,4,3,2]\n",
    "PairSum(nums)"
   ]
  },
  {
   "cell_type": "markdown",
   "id": "4ca5ea3e-8ca9-4389-8faa-07565fa2c6f1",
   "metadata": {},
   "source": [
    "**Question 2**\n",
    "Alice has n candies, where the ith candy is of type candyType[i]. Alice noticed that she started to gain weight, so she visited a doctor. \n",
    "\n",
    "The doctor advised Alice to only eat n / 2 of the candies she has (n is always even). Alice likes her candies very much, and she wants to eat the maximum number of different types of candies while still following the doctor's advice. \n",
    "\n",
    "Given the integer array candyType of length n, return the maximum number of different types of candies she can eat if she only eats n / 2 of them.\n",
    "\n",
    "**Example 1:**\n",
    "Input: candyType = [1,1,2,2,3,3]\n",
    "Output: 3\n",
    "\n",
    "**Explanation:** Alice can only eat 6 / 2 = 3 candies. Since there are only 3 types, she can eat one of each type."
   ]
  },
  {
   "cell_type": "code",
   "execution_count": 6,
   "id": "00af0b55-533f-4714-a9f2-54a343836406",
   "metadata": {},
   "outputs": [],
   "source": [
    "def Candies(candyType) -> int:\n",
    "    \n",
    "# Use set to count the number of unique candies\n",
    "    unique_candies = set(candyType)\n",
    "        \n",
    "# Return the minimum between the number of unique candies and half the length of the input array\n",
    "    return min(len(unique_candies), len(candyType)//2)"
   ]
  },
  {
   "cell_type": "code",
   "execution_count": 7,
   "id": "a0bc355b-6aef-4008-8462-23f51c551004",
   "metadata": {},
   "outputs": [
    {
     "data": {
      "text/plain": [
       "3"
      ]
     },
     "execution_count": 7,
     "metadata": {},
     "output_type": "execute_result"
    }
   ],
   "source": [
    "Candy = [1,1,2,2,3,3]\n",
    "\n",
    "Candies(Candy)"
   ]
  },
  {
   "cell_type": "markdown",
   "id": "c647d46e-0710-480e-af7b-c03a7db0bd4a",
   "metadata": {},
   "source": [
    "**Question 3**\n",
    "We define a harmonious array as an array where the difference between its maximum value\n",
    "and its minimum value is exactly 1.\n",
    "\n",
    "Given an integer array nums, return the length of its longest harmonious subsequence\n",
    "among all its possible subsequences.\n",
    "\n",
    "A subsequence of an array is a sequence that can be derived from the array by deleting some or no elements without changing the order of the remaining elements.\n",
    "\n",
    "**Example 1:**\n",
    "Input: nums = [1,3,2,2,5,2,3,7]\n",
    "Output: 5\n",
    "\n",
    "**Explanation:** The longest harmonious subsequence is [3,2,2,2,3]."
   ]
  },
  {
   "cell_type": "code",
   "execution_count": 31,
   "id": "feee5ab6-aa76-4b57-88da-41c69761b830",
   "metadata": {},
   "outputs": [],
   "source": [
    "def find(nums):\n",
    "\n",
    "    d, a = {}, 0\n",
    "    for i in nums:\n",
    "        if i not in d: d[i] = 1\n",
    "        else: d[i] += 1\n",
    "    for i in d:\n",
    "        if i + 1 in d.keys():\n",
    "            a = max(a, d[i] + d[i+1])\n",
    "    return a"
   ]
  },
  {
   "cell_type": "code",
   "execution_count": 32,
   "id": "2bc5fac5-43e9-4786-af2f-66f85a813bc3",
   "metadata": {},
   "outputs": [
    {
     "data": {
      "text/plain": [
       "5"
      ]
     },
     "execution_count": 32,
     "metadata": {},
     "output_type": "execute_result"
    }
   ],
   "source": [
    "nums = [1,3,2,2,5,2,3,7]\n",
    "\n",
    "find(nums)"
   ]
  },
  {
   "cell_type": "markdown",
   "id": "a82a5822-9d72-4d1e-a28d-017bb21b6d52",
   "metadata": {},
   "source": [
    "**Question 4**\n",
    "You have a long flowerbed in which some of the plots are planted, and some are not.\n",
    "However, flowers cannot be planted in adjacent plots.\n",
    "Given an integer array flowerbed containing 0's and 1's, where 0 means empty and 1 means not empty, and an integer n, return true if n new flowers can be planted in the flowerbed without violating the no-adjacent-flowers rule and false otherwise.\n",
    "\n",
    "**Example 1:**\n",
    "Input: flowerbed = [1,0,0,0,1], n = 1\n",
    "\n",
    "Output: true"
   ]
  },
  {
   "cell_type": "code",
   "execution_count": 34,
   "id": "b5a35d38-4649-4b98-9f17-25218ea78299",
   "metadata": {},
   "outputs": [],
   "source": [
    "\n",
    "def flowers(flowerbed, n):\n",
    "    if n == 0:\n",
    "        return True\n",
    "    for i in range(len(flowerbed)):\n",
    "        if flowerbed[i] == 0 and (i == 0 or flowerbed[i-1] == 0) and (i == len(flowerbed)-1 or flowerbed[i+1] == 0):\n",
    "            flowerbed[i] = 1\n",
    "            n -= 1\n",
    "            if n == 0:\n",
    "                return True\n",
    "    return False"
   ]
  },
  {
   "cell_type": "code",
   "execution_count": 36,
   "id": "8d037204-5030-44f2-b20c-cddad9ee1dcd",
   "metadata": {},
   "outputs": [
    {
     "data": {
      "text/plain": [
       "True"
      ]
     },
     "execution_count": 36,
     "metadata": {},
     "output_type": "execute_result"
    }
   ],
   "source": [
    "flowerbed = [1,0,0,0,1]\n",
    "\n",
    "flowers(flowerbed, n = 1)"
   ]
  },
  {
   "cell_type": "markdown",
   "id": "88c0fd4e-4f0e-4e17-af0c-53a60304bf27",
   "metadata": {},
   "source": [
    "**Question 5**\n",
    "Given an integer array nums, find three numbers whose product is maximum and return the maximum product.\n",
    "\n",
    "**Example 1:**\n",
    "Input: nums = [1,2,3]\n",
    "Output: 6"
   ]
  },
  {
   "cell_type": "code",
   "execution_count": 40,
   "id": "75a5bd12-dfa3-4ed4-a442-732fc73cefb5",
   "metadata": {},
   "outputs": [],
   "source": [
    "def product(A):\n",
    "    A.sort()\n",
    "    return max(A[0]*A[1]*A[-1], A[-1]*A[-2]*A[-3])"
   ]
  },
  {
   "cell_type": "code",
   "execution_count": 42,
   "id": "e45e3bf8-d2bb-4d76-90a0-3ccfd2ba19d8",
   "metadata": {},
   "outputs": [
    {
     "data": {
      "text/plain": [
       "6"
      ]
     },
     "execution_count": 42,
     "metadata": {},
     "output_type": "execute_result"
    }
   ],
   "source": [
    "A = [1,2,3]\n",
    "\n",
    "product(A)"
   ]
  },
  {
   "cell_type": "markdown",
   "id": "60060165-0a4f-4b9c-8ce1-24358d2fcf73",
   "metadata": {},
   "source": [
    "**Question 6**\n",
    "Given an array of integers nums which is sorted in ascending order, and an integer target,\n",
    "write a function to search target in nums. If target exists, then return its index. Otherwise,\n",
    "return -1.\n",
    "\n",
    "You must write an algorithm with O(log n) runtime complexity.\n",
    "\n",
    "Input: nums = [-1,0,3,5,9,12], target = 9\n",
    "Output: 4\n",
    "\n",
    "**Explanation:** 9 exists in nums and its index is 4\n"
   ]
  },
  {
   "cell_type": "code",
   "execution_count": 51,
   "id": "7a2c1781-766b-49a8-b721-19d2f8838052",
   "metadata": {},
   "outputs": [],
   "source": [
    "def search(num,target):\n",
    "    \n",
    "    n=len(num)\n",
    "    \n",
    "    for i in range(n):\n",
    "        if num[i]==target:\n",
    "            return i\n",
    "\n",
    "    return -1                                    "
   ]
  },
  {
   "cell_type": "code",
   "execution_count": 52,
   "id": "43414545-1ed6-42ab-b7a2-a5cce53be434",
   "metadata": {},
   "outputs": [
    {
     "data": {
      "text/plain": [
       "4"
      ]
     },
     "execution_count": 52,
     "metadata": {},
     "output_type": "execute_result"
    }
   ],
   "source": [
    "num = [-1,0,3,5,9,12]\n",
    "\n",
    "search(num, target = 9)\n"
   ]
  },
  {
   "cell_type": "markdown",
   "id": "42c5a68a-6d26-404e-ab92-f3baeeeeaac3",
   "metadata": {},
   "source": [
    "**Question 7**\n",
    "An array is monotonic if it is either monotone increasing or monotone decreasing.\n",
    "\n",
    "An array nums is monotone increasing if for all i <= j, nums[i] <= nums[j]. An array nums is\n",
    "monotone decreasing if for all i <= j, nums[i] >= nums[j].\n",
    "\n",
    "Given an integer array nums, return true if the given array is monotonic, or false otherwise.\n",
    "\n",
    "**Example 1:**\n",
    "Input: nums = [1,2,2,3]\n",
    "Output: true"
   ]
  },
  {
   "cell_type": "code",
   "execution_count": 53,
   "id": "39111141-c89e-44b1-8488-818453c7a85f",
   "metadata": {},
   "outputs": [],
   "source": [
    "def Monotonic(nums):\n",
    "    inc = True\n",
    "    dec = True\n",
    "    \n",
    "    for i in range(1,len(nums)):\n",
    "        \n",
    "        inc = inc and nums[i-1] >= nums[i]\n",
    "        dec = dec and nums[i-1] <= nums[i]\n",
    "        \n",
    "    return inc or dec\n",
    "\n"
   ]
  },
  {
   "cell_type": "code",
   "execution_count": 54,
   "id": "ac7a601f-71ff-44ce-8f18-e022ccad6d27",
   "metadata": {},
   "outputs": [
    {
     "data": {
      "text/plain": [
       "True"
      ]
     },
     "execution_count": 54,
     "metadata": {},
     "output_type": "execute_result"
    }
   ],
   "source": [
    "nums = [1,2,2,3]\n",
    "\n",
    "Monotonic(nums)\n"
   ]
  },
  {
   "cell_type": "markdown",
   "id": "6af69f23-fb7d-43d5-a975-480416b476b4",
   "metadata": {},
   "source": [
    "**Question 8**\n",
    "You are given an integer array nums and an integer k.\n",
    "\n",
    "In one operation, you can choose any index i where 0 <= i < nums.length and change nums[i] to nums[i] + x where x is an integer from the range [-k, k]. You can apply this operation at most once for each index i.\n",
    "\n",
    "The score of nums is the difference between the maximum and minimum elements in nums.\n",
    "\n",
    "Return the minimum score of nums after applying the mentioned operation at most once for each index in it.\n",
    "\n",
    "**Example 1:**\n",
    "Input: nums = [1], k = 0\n",
    "Output: 0\n",
    "\n",
    "**Explanation:** The score is max(nums) - min(nums) = 1 - 1 = 0."
   ]
  },
  {
   "cell_type": "code",
   "execution_count": 55,
   "id": "d2096644-3368-475c-95fc-ba451d0cde8d",
   "metadata": {},
   "outputs": [],
   "source": [
    "def smallest(nums, k):\n",
    "    \n",
    "    if len(nums) == 1:\n",
    "        return 0\n",
    "\n",
    "    if (max(nums) - k) - (min(nums) + k ) <= 0:\n",
    "        return 0\n",
    "    else:\n",
    "        return (max(nums) - k) - (min(nums) + k )"
   ]
  },
  {
   "cell_type": "code",
   "execution_count": 56,
   "id": "a53cd797-a954-4894-927e-ff758f84257b",
   "metadata": {},
   "outputs": [
    {
     "data": {
      "text/plain": [
       "0"
      ]
     },
     "execution_count": 56,
     "metadata": {},
     "output_type": "execute_result"
    }
   ],
   "source": [
    "nums = [1]\n",
    "\n",
    "smallest(nums, k = 0)"
   ]
  },
  {
   "cell_type": "code",
   "execution_count": 57,
   "id": "566eab4a-b47b-4690-a6ca-9090b34fc8ba",
   "metadata": {},
   "outputs": [
    {
     "data": {
      "text/plain": [
       "6"
      ]
     },
     "execution_count": 57,
     "metadata": {},
     "output_type": "execute_result"
    }
   ],
   "source": [
    "nums = [0,10]\n",
    "k = 2\n",
    "\n",
    "smallest(nums, k)"
   ]
  },
  {
   "cell_type": "code",
   "execution_count": null,
   "id": "b4dd4eb9-5317-488d-b017-c4dc223d3610",
   "metadata": {},
   "outputs": [],
   "source": []
  }
 ],
 "metadata": {
  "kernelspec": {
   "display_name": "Python 3 (ipykernel)",
   "language": "python",
   "name": "python3"
  },
  "language_info": {
   "codemirror_mode": {
    "name": "ipython",
    "version": 3
   },
   "file_extension": ".py",
   "mimetype": "text/x-python",
   "name": "python",
   "nbconvert_exporter": "python",
   "pygments_lexer": "ipython3",
   "version": "3.10.8"
  }
 },
 "nbformat": 4,
 "nbformat_minor": 5
}
